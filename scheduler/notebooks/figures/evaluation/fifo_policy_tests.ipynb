{
 "cells": [
  {
   "cell_type": "markdown",
   "metadata": {},
   "source": [
    "## Average JCT"
   ]
  },
  {
   "cell_type": "markdown",
   "metadata": {},
   "source": [
    "## Import statements"
   ]
  },
  {
   "cell_type": "markdown",
   "metadata": {},
   "source": [
    "In this notebook, we compare various heterogeneity-agnostic and heterogeneity-aware FIFO policies, with and without space sharing, on traces with single-GPU and multi-GPU jobs."
   ]
  },
  {
   "cell_type": "code",
   "execution_count": null,
   "metadata": {},
   "outputs": [],
   "source": [
    "from plotting_utils import plot_metric_vs_inverse_lambda, plot_jct_cdf\n",
    "from utils import get_logfile_paths, average_jct_fn"
   ]
  },
  {
   "cell_type": "markdown",
   "metadata": {},
   "source": [
    "## Get list of relevant logfiles and define label mapping"
   ]
  },
  {
   "cell_type": "code",
   "execution_count": null,
   "metadata": {},
   "outputs": [],
   "source": [
    "logfile_paths = sorted(get_logfile_paths(\n",
    "    \"/future/u/deepakn/gavel/logs/single_gpu_continuous_jobs_final/\"))"
   ]
  },
  {
   "cell_type": "code",
   "execution_count": null,
   "metadata": {},
   "outputs": [],
   "source": [
    "labels = {\"fifo\": \"FIFO\",\n",
    "          \"fifo_perf\": \"Gavel\",\n",
    "          \"fifo_packed\": \"Gavel w/ SS\"}"
   ]
  },
  {
   "cell_type": "markdown",
   "metadata": {},
   "source": [
    "## Plot average JCT vs. input job rate\n"
   ]
  },
  {
   "cell_type": "code",
   "execution_count": null,
   "metadata": {},
   "outputs": [],
   "source": [
    "plot_metric_vs_inverse_lambda(\n",
    "    logfile_paths,\n",
    "    labels,\n",
    "    v100s=36, p100s=36, k80s=36,\n",
    "    policies=[\"fifo\",\n",
    "              \"fifo_perf\",\n",
    "              \"fifo_packed\"],\n",
    "    metric_fn=lambda x: average_jct_fn(x, min_job_id=4000, max_job_id=5000),\n",
    "    metric_label=\"Average JCT\\n(hours)\",\n",
    "    xmax=2.8,\n",
    "    ymax=100.0,\n",
    "    extrapolate=True,\n",
    "    output_filename=\"continuous_jobs/multi_gpu_fifo_v100=36_p100=36_k80=36.pdf\"\n",
    ")"
   ]
  },
  {
   "cell_type": "markdown",
   "metadata": {},
   "source": [
    "## Makespan"
   ]
  },
  {
   "cell_type": "markdown",
   "metadata": {},
   "source": [
    "In this notebook, we compare various heterogeneity-agnostic and heterogeneity-aware makespan policies, with and without space sharing."
   ]
  },
  {
   "cell_type": "markdown",
   "metadata": {},
   "source": [
    "## Import statements"
   ]
  },
  {
   "cell_type": "code",
   "execution_count": null,
   "metadata": {},
   "outputs": [],
   "source": [
    "from plotting_utils import *\n",
    "from utils import get_logfile_paths, makespan_fn, prune"
   ]
  },
  {
   "cell_type": "markdown",
   "metadata": {},
   "source": [
    "## Get list of relevant logfiles and define label mapping"
   ]
  },
  {
   "cell_type": "code",
   "execution_count": null,
   "metadata": {},
   "outputs": [],
   "source": [
    "logfile_paths = sorted(\n",
    "    get_logfile_paths(\n",
    "        \"/future/u/deepakn/gavel/logs/multi_gpu_static_jobs_final/\", static_trace=True))"
   ]
  },
  {
   "cell_type": "code",
   "execution_count": null,
   "metadata": {},
   "outputs": [],
   "source": [
    "labels = {\"fifo\": \"FIFO\",\n",
    "          \"gandiva\": \"Gandiva\",\n",
    "          \"min_total_duration_perf\": \"Gavel\",\n",
    "          \"min_total_duration_packed\": \"Gavel w/ SS\"}"
   ]
  },
  {
   "cell_type": "markdown",
   "metadata": {},
   "source": [
    "## Plotting functions"
   ]
  },
  {
   "cell_type": "code",
   "execution_count": null,
   "metadata": {},
   "outputs": [],
   "source": [
    "def plot_metric_vs_num_total_jobs(logfile_paths,\n",
    "                                  labels,\n",
    "                                  v100s, p100s, k80s, policies, metric_fn,\n",
    "                                  metric_label, xmax=None, ymax=None,\n",
    "                                  output_filename=None):\n",
    "    plt.figure(figsize=(8, 3))\n",
    "    ax = plt.subplot2grid((1, 1), (0, 0), colspan=1)\n",
    "\n",
    "    data = {\"num_total_jobs\": [], \"metric\": [], \"seed\": [],\n",
    "            \"policy\": []}\n",
    "    for policy in policies:\n",
    "        relevant_logfile_paths = list(reversed(prune(\n",
    "            logfile_paths, v100s, p100s, k80s, policy)))\n",
    "        num_total_jobs = [x[0] for x in relevant_logfile_paths]\n",
    "        metrics = [metric_fn(x[1]) for x in relevant_logfile_paths]\n",
    "        seeds = [x[2] for x in relevant_logfile_paths]\n",
    "        policies = [labels[policy] for i in range(len(metrics))]\n",
    "\n",
    "        import pandas as pd\n",
    "        data[\"num_total_jobs\"] += num_total_jobs\n",
    "        data[\"metric\"] += metrics\n",
    "        data[\"seed\"] += seeds\n",
    "        data[\"policy\"] += policies\n",
    "    import pandas as pd\n",
    "    df = pd.DataFrame(data)\n",
    "    print(df.groupby([\"policy\", \"num_total_jobs\"]).mean())\n",
    "\n",
    "    sns.lineplot(x='num_total_jobs', y='metric', style='policy',\n",
    "                 hue='policy',\n",
    "                 data=data, ci='sd',\n",
    "                 markers=True)\n",
    "\n",
    "    ax.set_xlabel(\"Number of jobs\")\n",
    "    ax.set_ylabel(metric_label)\n",
    "    ax.set_xlim([70, xmax])\n",
    "    ax.set_xticks([100, 200, 300, 400, 500, 600, 700])\n",
    "    ax.set_ylim([0, ymax])\n",
    "    sns.despine()\n",
    "    \n",
    "    leg = plt.legend(frameon=False)\n",
    "    bb = leg.get_bbox_to_anchor().inverse_transformed(ax.transAxes)\n",
    "    bb.y0 += 0.22\n",
    "    bb.y1 += 0.22\n",
    "    leg.set_bbox_to_anchor(bb, transform=ax.transAxes)\n",
    "    \n",
    "    if output_filename is not None:\n",
    "        with PdfPages(output_filename) as pdf:\n",
    "            pdf.savefig(bbox_inches='tight')\n",
    "    \n",
    "    plt.show()"
   ]
  },
  {
   "cell_type": "markdown",
   "metadata": {},
   "source": [
    "## Plot makespan vs. number of jobs"
   ]
  },
  {
   "cell_type": "code",
   "execution_count": null,
   "metadata": {},
   "outputs": [],
   "source": [
    "print(\"V100s=36, P100s=36, K80s=36\")\n",
    "plot_metric_vs_num_total_jobs(\n",
    "    logfile_paths,\n",
    "    labels,\n",
    "    v100s=36, p100s=36, k80s=36,\n",
    "    policies=[\"fifo\"],\n",
    "    metric_fn=makespan_fn,\n",
    "    metric_label=\"Makespan (hours)\",\n",
    "    xmax=None,\n",
    "    ymax=800,\n",
    "    output_filename=\"makespan/multi_gpu_v100=36_p100=36_k80=36.pdf\"\n",
    ")"
   ]
  }
 ],
 "metadata": {
  "language_info": {
   "name": "python"
  }
 },
 "nbformat": 4,
 "nbformat_minor": 2
}
