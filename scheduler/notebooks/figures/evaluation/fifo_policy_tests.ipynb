{
 "cells": [
  {
   "cell_type": "markdown",
   "metadata": {},
   "source": [
    "## Import statements"
   ]
  },
  {
   "cell_type": "markdown",
   "metadata": {},
   "source": [
    "In this notebook, we compare various heterogeneity-agnostic and heterogeneity-aware FIFO policies, with and without space sharing, on traces with single-GPU and multi-GPU jobs."
   ]
  },
  {
   "cell_type": "code",
   "execution_count": null,
   "metadata": {},
   "outputs": [],
   "source": [
    "from plotting_utils import plot_metric_vs_inverse_lambda, plot_jct_cdf\n",
    "from utils import get_logfile_paths, average_jct_fn"
   ]
  },
  {
   "cell_type": "markdown",
   "metadata": {},
   "source": [
    "## Get list of relevant logfiles and define label mapping"
   ]
  },
  {
   "cell_type": "code",
   "execution_count": null,
   "metadata": {},
   "outputs": [],
   "source": [
    "logfile_paths = sorted(get_logfile_paths(\n",
    "    \"/future/u/deepakn/gavel/logs/single_gpu_continuous_jobs_final/\"))"
   ]
  },
  {
   "cell_type": "code",
   "execution_count": null,
   "metadata": {},
   "outputs": [],
   "source": [
    "labels = {\"fifo\": \"FIFO\",\n",
    "          \"fifo_perf\": \"Gavel\",\n",
    "          \"fifo_packed\": \"Gavel w/ SS\"}"
   ]
  },
  {
   "cell_type": "markdown",
   "metadata": {},
   "source": [
    "## Plot average JCT vs. input job rate\n"
   ]
  },
  {
   "cell_type": "code",
   "execution_count": null,
   "metadata": {},
   "outputs": [],
   "source": [
    "plot_metric_vs_inverse_lambda(\n",
    "    logfile_paths,\n",
    "    labels,\n",
    "    v100s=36, p100s=36, k80s=36,\n",
    "    policies=[\"fifo\",\n",
    "              \"fifo_perf\",\n",
    "              \"fifo_packed\"],\n",
    "    metric_fn=lambda x: average_jct_fn(x, min_job_id=4000, max_job_id=5000),\n",
    "    metric_label=\"Average JCT\\n(hours)\",\n",
    "    xmax=2.8,\n",
    "    ymax=100.0,\n",
    "    extrapolate=True,\n",
    "    output_filename=\"continuous_jobs/multi_gpu_fifo_v100=36_p100=36_k80=36.pdf\"\n",
    ")"
   ]
  }
 ],
 "metadata": {
  "language_info": {
   "name": "python"
  }
 },
 "nbformat": 4,
 "nbformat_minor": 2
}
